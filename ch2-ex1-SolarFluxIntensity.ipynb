{
 "cells": [
  {
   "cell_type": "markdown",
   "metadata": {},
   "source": [
    "# Flux, Intensity, Wavelength, and Numerical integration\n",
    "In this exercise, we will examine the spectral distribution of solar radiation. We will use numerical methods to compute definite integrals and to convert between spectral intensity, intensity, spectral flux density, and flux density."
   ]
  },
  {
   "cell_type": "code",
   "execution_count": null,
   "metadata": {},
   "outputs": [],
   "source": [
    "# Import modules that we will need\n",
    "import numpy as np\n",
    "import matplotlib.pyplot as plt\n",
    "from scipy.integrate import quad"
   ]
  },
  {
   "cell_type": "markdown",
   "metadata": {},
   "source": [
    "## Numerical integration \n",
    "### Background\n",
    "Numerical integration is the process of computing the value of a definite integral\n",
    "within some acceptable error.\n",
    "\\begin{equation}\n",
    "\\int_{a}^{b}f(x)\\, dx\n",
    "\\end{equation}\n",
    "\n",
    "Algorithms for numerical integration divide the interval $[a,b]$ into small slices then add up the area the slices (Riemann sum), as depicted below. \n",
    "<center><img src=\"img/RiemannSum.png\"></center>\n",
    "\n",
    "Unlike analytical integration, numerical integration does not require finding the antiderivative (or indefinite integral) function $ F(x) = \\int f(x)\\,dx$. \n",
    "This means we can compute the integral of complex functions whose antiderivatives are unknown or hard to determine. The disadvantage of numerical integration compared to analytical integration is that the results always have some error, meaning that they differ from the true \n",
    "analytic solution. Some numerical integration algorithms, however, provide an estimate of the error with the integral value.  \n",
    "\n",
    "### Example\n",
    "As an example, let's integrate the function $f(x) = x^3$ over the interval $[1,2]$:\n",
    "\\begin{equation}\n",
    "\\int_{1}^{2}f(x)\\, dx\n",
    "\\end{equation}\n",
    "For simple integrands like this, we could compute the solution, which is 3.75 here. We will compare this to the numerical result below. \n",
    "\n",
    "The first step in numerical integration is to define a Python function for the integrand. The function should have one input argument and one output argument."
   ]
  },
  {
   "cell_type": "code",
   "execution_count": null,
   "metadata": {},
   "outputs": [],
   "source": [
    "def f(x):\n",
    "    '''Integrand function'''\n",
    "    return x**3"
   ]
  },
  {
   "cell_type": "markdown",
   "metadata": {},
   "source": [
    "The `quad` function (short for 'quadrature') from the SciPy package can evaluate one-dimensional integrands of the form $f(x)$. \n",
    "`quad` was already imported at the top of this program. It's syntax is\n",
    "\n",
    "`value, error = quad(f,a,b)`\n",
    "\n",
    "where `f` is the function to be integrated, `a` is the lower limit of integration, and `b` is the upper limit. `quad` returns two numbers: the value of the integral and an estimate of its absolute error. The true value of the integral should be in the interval `[value–error, value+error]`."
   ]
  },
  {
   "cell_type": "code",
   "execution_count": null,
   "metadata": {},
   "outputs": [],
   "source": [
    "# Evaluate the integral on the interval [1,2]\n",
    "value, error = quad(f, 1, 2)\n",
    "\n",
    "# Print the result\n",
    "print(f'The numerical value is {value:.16f} ± {error:.16f}')\n",
    "print(f'The true solution is 3.75. The numerical solution has an error of {value-3.75:g}')"
   ]
  },
  {
   "cell_type": "markdown",
   "metadata": {},
   "source": [
    "On my computer, the numerical result from `quad` differs from the true answer in the 16th decimal place. This is within the error estimate from `quad`."
   ]
  },
  {
   "cell_type": "markdown",
   "metadata": {},
   "source": [
    "## Spectral Intensity\n",
    "Above Earth's atmosphere, the spectral intensity of sunlight is \n",
    "\\begin{equation}\n",
    "I_\\lambda = \\frac{a_1}{\\lambda^5 (e^{a_2/\\lambda} - 1)}\n",
    "\\end{equation}\n",
    "with constants $a_1 = 1.191 \\times 10^8$ ${\\rm W\\, m^{-2}\\, µm^4\\, sr^{-1}}$ and $a_2 = 2.493$ µm. When using this equation, the wavelength ($\\lambda$) should be specified in units of µm. The spectral intensity ($I_\\lambda$) will then have values of ${\\rm W\\, m^{-2}\\, µm^{-1}\\, sr^{-1}}$.\n",
    "\n",
    "**TO DO...** \n",
    "1. Write a Python function called `spectral_intensity` for the spectral intensity of sunlight. The function should have one input argument (wavelength) and one output argument (spectral intensity from the equation above).\n",
    "2. Plot the intensity as a function of wavelength over the range 0.1 to 4 µm. If you have done things correctly, your figure should look like this\n",
    "\n",
    "<center><img src=\"img/SolarIntensity.png\" width=\"300\"></center>\n",
    "\n",
    "*Turn in:* Your Python function and plotting commands."
   ]
  },
  {
   "cell_type": "code",
   "execution_count": null,
   "metadata": {},
   "outputs": [],
   "source": [
    "# Add your code here"
   ]
  },
  {
   "cell_type": "markdown",
   "metadata": {},
   "source": [
    "## Broadband Intensity\n",
    "The broadband intensity is \n",
    "\\begin{equation}\n",
    "I(\\lambda_1,\\lambda_2)=\\int_{\\lambda_1}^{\\lambda_2}I_\\lambda d\\lambda\n",
    "\\end{equation}\n",
    "\n",
    "**TO DO**\n",
    "1. Use the `quad` to compute the broadband intensity of sunlight over the wavelength range $\\lambda_1=$ 0.1 µm to $\\lambda_2=$ 10 µm. In other words, compute the value of $I{\\rm(0.1\\,µm, 10\\,µm)}$.\n",
    "2. Compare your value from 1 to the value of solar intensity that we calculated in class ($\\omega_s=2.0\\times 10^7\\, {\\rm W\\, m^{-2}\\, sr^{-1}}$).\n",
    "3. Change your `quad` command to integrate over the range 0.1 to 20 µm. Does your answer change? What does this mean about the intensity of sunlight in the wavelength range 10-20 µm?\n",
    "\n",
    "*Turn in:* Value from 1, Answers to 2, 3. "
   ]
  },
  {
   "cell_type": "code",
   "execution_count": null,
   "metadata": {},
   "outputs": [],
   "source": [
    "# Add your code here"
   ]
  },
  {
   "cell_type": "markdown",
   "metadata": {},
   "source": [
    "## Spectral Flux Density\n",
    "Since the sun has small apparent size ($\\omega_s = 6.8 \\times 10^-5$ sr), as seen from Earth, we can compute the radiation flux density along the solar beam using the simple equation (integration over solid angle not required)\n",
    "\\begin{equation}\n",
    "F_s=I_s\\omega_s.\n",
    "\\end{equation} \n",
    "The flux density and intensity in this expression are broadband quantities, but the spectral flux density and spectral have an identical relationship\n",
    "\\begin{equation}\n",
    "F_{\\lambda,s}=I_{\\lambda,s}\\omega_s.\n",
    "\\end{equation}\n",
    "\n",
    "**TO DO**\n",
    "1. Write a Python function called `spectral_flux` for the spectral flux density of sunlight. The function should have one input argument (wavelength) and one output argument (spectral flux density). Your function can use `spectral_intensity` inside to avoid repeating any code.\n",
    "2. Plot flux density as a function of wavelength over the range 0.1 to 4 µm. If you have done things correctly, the peak should be about 1750 W $\\rm m^{-2} µm^{-1}$\n",
    "\n",
    "*Turn in*: your Python function and your plot."
   ]
  },
  {
   "cell_type": "code",
   "execution_count": null,
   "metadata": {},
   "outputs": [],
   "source": [
    "# Add your code here"
   ]
  },
  {
   "cell_type": "markdown",
   "metadata": {},
   "source": [
    "## Flux Density\n",
    "\n",
    "The broadband flux density is\n",
    "\\begin{equation}\n",
    "F(\\lambda_1,\\lambda_2) =\\int_{\\lambda_1}^{\\lambda_2}F_\\lambda d\\lambda\n",
    "\\end{equation}\n",
    "\n",
    "**TO DO**\n",
    "1. Use numerical integration to compute the broadband flux density over the wavelength range 0.1 µm to 10 µm.\n",
    "2. Compare your value to the measured solar constant (1360 W m<sup>-2</sup>). \n",
    "3. Repeat the integration using several values for the upper limit (e.g. 0.5, 1, 2, 4, 10, and 20 µm). \n",
    "4. What range of wavelengths contribute at least 90% of the total solar flux? What can you conclude about the importance of infrared wavelengths ($\\lambda$ > 0.76 µm) to the solar flux?\n",
    "\n",
    "*Turn in*: your answers to 1, 2, 4\n"
   ]
  },
  {
   "cell_type": "code",
   "execution_count": null,
   "metadata": {},
   "outputs": [],
   "source": [
    "# Add your code here"
   ]
  }
 ],
 "metadata": {
  "kernelspec": {
   "display_name": "main",
   "language": "python",
   "name": "python3"
  },
  "language_info": {
   "codemirror_mode": {
    "name": "ipython",
    "version": 3
   },
   "file_extension": ".py",
   "mimetype": "text/x-python",
   "name": "python",
   "nbconvert_exporter": "python",
   "pygments_lexer": "ipython3",
   "version": "3.11.7"
  }
 },
 "nbformat": 4,
 "nbformat_minor": 2
}
